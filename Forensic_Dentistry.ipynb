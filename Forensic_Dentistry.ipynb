{
  "nbformat": 4,
  "nbformat_minor": 0,
  "metadata": {
    "colab": {
      "name": "Forensic Dentistry.ipynb",
      "provenance": [],
      "collapsed_sections": [],
      "authorship_tag": "ABX9TyOkn8SEVsFZWFfe1aARimpx",
      "include_colab_link": true
    },
    "kernelspec": {
      "name": "python3",
      "display_name": "Python 3"
    },
    "language_info": {
      "name": "python"
    }
  },
  "cells": [
    {
      "cell_type": "markdown",
      "metadata": {
        "id": "view-in-github",
        "colab_type": "text"
      },
      "source": [
        "<a href=\"https://colab.research.google.com/github/ChetanSonar10/Forensic-Dentistry-Gender-Prediction/blob/main/Forensic_Dentistry.ipynb\" target=\"_parent\"><img src=\"https://colab.research.google.com/assets/colab-badge.svg\" alt=\"Open In Colab\"/></a>"
      ]
    },
    {
      "cell_type": "code",
      "metadata": {
        "id": "p1Nfc0J_84fN"
      },
      "source": [
        "import pandas as pd\n",
        "import numpy as np\n",
        "import seaborn as sns\n",
        "import matplotlib.pyplot as plt"
      ],
      "execution_count": null,
      "outputs": []
    },
    {
      "cell_type": "code",
      "metadata": {
        "colab": {
          "base_uri": "https://localhost:8080/"
        },
        "id": "NjR0Z44WBI9o",
        "outputId": "5554e51e-1b27-4263-ed74-8371a2ec93f1"
      },
      "source": [
        "from google.colab import drive\n",
        "drive.mount('/content/drive')"
      ],
      "execution_count": null,
      "outputs": [
        {
          "output_type": "stream",
          "name": "stdout",
          "text": [
            "Mounted at /content/drive\n"
          ]
        }
      ]
    },
    {
      "cell_type": "code",
      "metadata": {
        "id": "phNtlCzABaAW"
      },
      "source": [
        "skull_df = pd.read_csv('/content/drive/MyDrive/Proj.csv')"
      ],
      "execution_count": null,
      "outputs": []
    },
    {
      "cell_type": "code",
      "metadata": {
        "colab": {
          "base_uri": "https://localhost:8080/",
          "height": 450
        },
        "id": "Z0ala5dYCTfN",
        "outputId": "648b9373-9665-4c27-c6c2-1e5b30bdcc1b"
      },
      "source": [
        "skull_df"
      ],
      "execution_count": null,
      "outputs": [
        {
          "output_type": "execute_result",
          "data": {
            "text/html": [
              "<div>\n",
              "<style scoped>\n",
              "    .dataframe tbody tr th:only-of-type {\n",
              "        vertical-align: middle;\n",
              "    }\n",
              "\n",
              "    .dataframe tbody tr th {\n",
              "        vertical-align: top;\n",
              "    }\n",
              "\n",
              "    .dataframe thead th {\n",
              "        text-align: right;\n",
              "    }\n",
              "</style>\n",
              "<table border=\"1\" class=\"dataframe\">\n",
              "  <thead>\n",
              "    <tr style=\"text-align: right;\">\n",
              "      <th></th>\n",
              "      <th>Sl No</th>\n",
              "      <th>Sample ID</th>\n",
              "      <th>Age</th>\n",
              "      <th>Gender</th>\n",
              "      <th>inter canine distance intraoral</th>\n",
              "      <th>intercanine distance casts</th>\n",
              "      <th>right canine width intraoral</th>\n",
              "      <th>right canine width casts</th>\n",
              "      <th>left canine width intraoral</th>\n",
              "      <th>left canine width casts</th>\n",
              "      <th>right canine index intra oral</th>\n",
              "      <th>right canine index casts</th>\n",
              "      <th>left canine index intraoral</th>\n",
              "      <th>left canine index casts</th>\n",
              "    </tr>\n",
              "  </thead>\n",
              "  <tbody>\n",
              "    <tr>\n",
              "      <th>0</th>\n",
              "      <td>1</td>\n",
              "      <td>NaN</td>\n",
              "      <td>24</td>\n",
              "      <td>Female</td>\n",
              "      <td>25.06</td>\n",
              "      <td>25.05</td>\n",
              "      <td>6.08</td>\n",
              "      <td>6.08</td>\n",
              "      <td>6.09</td>\n",
              "      <td>6.10</td>\n",
              "      <td>0.242</td>\n",
              "      <td>0.242</td>\n",
              "      <td>0.242</td>\n",
              "      <td>0.241</td>\n",
              "    </tr>\n",
              "    <tr>\n",
              "      <th>1</th>\n",
              "      <td>2</td>\n",
              "      <td>NaN</td>\n",
              "      <td>22</td>\n",
              "      <td>Female</td>\n",
              "      <td>25.78</td>\n",
              "      <td>25.79</td>\n",
              "      <td>6.13</td>\n",
              "      <td>6.13</td>\n",
              "      <td>6.33</td>\n",
              "      <td>6.33</td>\n",
              "      <td>0.237</td>\n",
              "      <td>0.237</td>\n",
              "      <td>0.247</td>\n",
              "      <td>0.247</td>\n",
              "    </tr>\n",
              "    <tr>\n",
              "      <th>2</th>\n",
              "      <td>3</td>\n",
              "      <td>NaN</td>\n",
              "      <td>23</td>\n",
              "      <td>Female</td>\n",
              "      <td>23.83</td>\n",
              "      <td>23.83</td>\n",
              "      <td>5.91</td>\n",
              "      <td>5.96</td>\n",
              "      <td>6.28</td>\n",
              "      <td>6.28</td>\n",
              "      <td>0.248</td>\n",
              "      <td>0.248</td>\n",
              "      <td>0.264</td>\n",
              "      <td>0.264</td>\n",
              "    </tr>\n",
              "    <tr>\n",
              "      <th>3</th>\n",
              "      <td>4</td>\n",
              "      <td>NaN</td>\n",
              "      <td>20</td>\n",
              "      <td>Female</td>\n",
              "      <td>26.12</td>\n",
              "      <td>26.12</td>\n",
              "      <td>6.08</td>\n",
              "      <td>6.08</td>\n",
              "      <td>6.56</td>\n",
              "      <td>6.56</td>\n",
              "      <td>0.232</td>\n",
              "      <td>0.232</td>\n",
              "      <td>0.250</td>\n",
              "      <td>0.250</td>\n",
              "    </tr>\n",
              "    <tr>\n",
              "      <th>4</th>\n",
              "      <td>5</td>\n",
              "      <td>NaN</td>\n",
              "      <td>20</td>\n",
              "      <td>Female</td>\n",
              "      <td>26.36</td>\n",
              "      <td>26.41</td>\n",
              "      <td>6.09</td>\n",
              "      <td>6.09</td>\n",
              "      <td>6.50</td>\n",
              "      <td>6.50</td>\n",
              "      <td>0.231</td>\n",
              "      <td>0.231</td>\n",
              "      <td>0.246</td>\n",
              "      <td>0.246</td>\n",
              "    </tr>\n",
              "    <tr>\n",
              "      <th>...</th>\n",
              "      <td>...</td>\n",
              "      <td>...</td>\n",
              "      <td>...</td>\n",
              "      <td>...</td>\n",
              "      <td>...</td>\n",
              "      <td>...</td>\n",
              "      <td>...</td>\n",
              "      <td>...</td>\n",
              "      <td>...</td>\n",
              "      <td>...</td>\n",
              "      <td>...</td>\n",
              "      <td>...</td>\n",
              "      <td>...</td>\n",
              "      <td>...</td>\n",
              "    </tr>\n",
              "    <tr>\n",
              "      <th>1095</th>\n",
              "      <td>1096</td>\n",
              "      <td>NaN</td>\n",
              "      <td>24</td>\n",
              "      <td>Male</td>\n",
              "      <td>24.29</td>\n",
              "      <td>24.29</td>\n",
              "      <td>6.58</td>\n",
              "      <td>6.58</td>\n",
              "      <td>6.60</td>\n",
              "      <td>6.60</td>\n",
              "      <td>0.271</td>\n",
              "      <td>0.271</td>\n",
              "      <td>0.272</td>\n",
              "      <td>0.272</td>\n",
              "    </tr>\n",
              "    <tr>\n",
              "      <th>1096</th>\n",
              "      <td>1097</td>\n",
              "      <td>NaN</td>\n",
              "      <td>22</td>\n",
              "      <td>Male</td>\n",
              "      <td>25.22</td>\n",
              "      <td>25.22</td>\n",
              "      <td>6.70</td>\n",
              "      <td>6.70</td>\n",
              "      <td>6.80</td>\n",
              "      <td>6.80</td>\n",
              "      <td>0.265</td>\n",
              "      <td>0.265</td>\n",
              "      <td>0.269</td>\n",
              "      <td>0.269</td>\n",
              "    </tr>\n",
              "    <tr>\n",
              "      <th>1097</th>\n",
              "      <td>1098</td>\n",
              "      <td>NaN</td>\n",
              "      <td>25</td>\n",
              "      <td>Male</td>\n",
              "      <td>24.24</td>\n",
              "      <td>24.24</td>\n",
              "      <td>6.60</td>\n",
              "      <td>6.60</td>\n",
              "      <td>6.61</td>\n",
              "      <td>6.61</td>\n",
              "      <td>0.272</td>\n",
              "      <td>0.272</td>\n",
              "      <td>0.272</td>\n",
              "      <td>0.272</td>\n",
              "    </tr>\n",
              "    <tr>\n",
              "      <th>1098</th>\n",
              "      <td>1099</td>\n",
              "      <td>NaN</td>\n",
              "      <td>21</td>\n",
              "      <td>Male</td>\n",
              "      <td>24.87</td>\n",
              "      <td>24.87</td>\n",
              "      <td>6.57</td>\n",
              "      <td>6.57</td>\n",
              "      <td>6.66</td>\n",
              "      <td>6.66</td>\n",
              "      <td>0.264</td>\n",
              "      <td>0.264</td>\n",
              "      <td>0.267</td>\n",
              "      <td>0.267</td>\n",
              "    </tr>\n",
              "    <tr>\n",
              "      <th>1099</th>\n",
              "      <td>1100</td>\n",
              "      <td>NaN</td>\n",
              "      <td>23</td>\n",
              "      <td>Male</td>\n",
              "      <td>24.51</td>\n",
              "      <td>24.51</td>\n",
              "      <td>6.36</td>\n",
              "      <td>6.36</td>\n",
              "      <td>6.78</td>\n",
              "      <td>6.78</td>\n",
              "      <td>0.259</td>\n",
              "      <td>0.259</td>\n",
              "      <td>0.276</td>\n",
              "      <td>0.276</td>\n",
              "    </tr>\n",
              "  </tbody>\n",
              "</table>\n",
              "<p>1100 rows × 14 columns</p>\n",
              "</div>"
            ],
            "text/plain": [
              "      Sl No  Sample ID  ...  left canine index intraoral left canine index casts\n",
              "0         1        NaN  ...                        0.242                   0.241\n",
              "1         2        NaN  ...                        0.247                   0.247\n",
              "2         3        NaN  ...                        0.264                   0.264\n",
              "3         4        NaN  ...                        0.250                   0.250\n",
              "4         5        NaN  ...                        0.246                   0.246\n",
              "...     ...        ...  ...                          ...                     ...\n",
              "1095   1096        NaN  ...                        0.272                   0.272\n",
              "1096   1097        NaN  ...                        0.269                   0.269\n",
              "1097   1098        NaN  ...                        0.272                   0.272\n",
              "1098   1099        NaN  ...                        0.267                   0.267\n",
              "1099   1100        NaN  ...                        0.276                   0.276\n",
              "\n",
              "[1100 rows x 14 columns]"
            ]
          },
          "metadata": {},
          "execution_count": 4
        }
      ]
    },
    {
      "cell_type": "code",
      "metadata": {
        "colab": {
          "base_uri": "https://localhost:8080/",
          "height": 237
        },
        "id": "y5b43APNGurA",
        "outputId": "f4dc16eb-4cd3-4dd3-f0f9-fafa4e6f123b"
      },
      "source": [
        "skull_df.head(5)"
      ],
      "execution_count": null,
      "outputs": [
        {
          "output_type": "execute_result",
          "data": {
            "text/html": [
              "<div>\n",
              "<style scoped>\n",
              "    .dataframe tbody tr th:only-of-type {\n",
              "        vertical-align: middle;\n",
              "    }\n",
              "\n",
              "    .dataframe tbody tr th {\n",
              "        vertical-align: top;\n",
              "    }\n",
              "\n",
              "    .dataframe thead th {\n",
              "        text-align: right;\n",
              "    }\n",
              "</style>\n",
              "<table border=\"1\" class=\"dataframe\">\n",
              "  <thead>\n",
              "    <tr style=\"text-align: right;\">\n",
              "      <th></th>\n",
              "      <th>Sl No</th>\n",
              "      <th>Sample ID</th>\n",
              "      <th>Age</th>\n",
              "      <th>Gender</th>\n",
              "      <th>inter canine distance intraoral</th>\n",
              "      <th>intercanine distance casts</th>\n",
              "      <th>right canine width intraoral</th>\n",
              "      <th>right canine width casts</th>\n",
              "      <th>left canine width intraoral</th>\n",
              "      <th>left canine width casts</th>\n",
              "      <th>right canine index intra oral</th>\n",
              "      <th>right canine index casts</th>\n",
              "      <th>left canine index intraoral</th>\n",
              "      <th>left canine index casts</th>\n",
              "    </tr>\n",
              "  </thead>\n",
              "  <tbody>\n",
              "    <tr>\n",
              "      <th>0</th>\n",
              "      <td>1</td>\n",
              "      <td>NaN</td>\n",
              "      <td>24</td>\n",
              "      <td>Female</td>\n",
              "      <td>25.06</td>\n",
              "      <td>25.05</td>\n",
              "      <td>6.08</td>\n",
              "      <td>6.08</td>\n",
              "      <td>6.09</td>\n",
              "      <td>6.10</td>\n",
              "      <td>0.242</td>\n",
              "      <td>0.242</td>\n",
              "      <td>0.242</td>\n",
              "      <td>0.241</td>\n",
              "    </tr>\n",
              "    <tr>\n",
              "      <th>1</th>\n",
              "      <td>2</td>\n",
              "      <td>NaN</td>\n",
              "      <td>22</td>\n",
              "      <td>Female</td>\n",
              "      <td>25.78</td>\n",
              "      <td>25.79</td>\n",
              "      <td>6.13</td>\n",
              "      <td>6.13</td>\n",
              "      <td>6.33</td>\n",
              "      <td>6.33</td>\n",
              "      <td>0.237</td>\n",
              "      <td>0.237</td>\n",
              "      <td>0.247</td>\n",
              "      <td>0.247</td>\n",
              "    </tr>\n",
              "    <tr>\n",
              "      <th>2</th>\n",
              "      <td>3</td>\n",
              "      <td>NaN</td>\n",
              "      <td>23</td>\n",
              "      <td>Female</td>\n",
              "      <td>23.83</td>\n",
              "      <td>23.83</td>\n",
              "      <td>5.91</td>\n",
              "      <td>5.96</td>\n",
              "      <td>6.28</td>\n",
              "      <td>6.28</td>\n",
              "      <td>0.248</td>\n",
              "      <td>0.248</td>\n",
              "      <td>0.264</td>\n",
              "      <td>0.264</td>\n",
              "    </tr>\n",
              "    <tr>\n",
              "      <th>3</th>\n",
              "      <td>4</td>\n",
              "      <td>NaN</td>\n",
              "      <td>20</td>\n",
              "      <td>Female</td>\n",
              "      <td>26.12</td>\n",
              "      <td>26.12</td>\n",
              "      <td>6.08</td>\n",
              "      <td>6.08</td>\n",
              "      <td>6.56</td>\n",
              "      <td>6.56</td>\n",
              "      <td>0.232</td>\n",
              "      <td>0.232</td>\n",
              "      <td>0.250</td>\n",
              "      <td>0.250</td>\n",
              "    </tr>\n",
              "    <tr>\n",
              "      <th>4</th>\n",
              "      <td>5</td>\n",
              "      <td>NaN</td>\n",
              "      <td>20</td>\n",
              "      <td>Female</td>\n",
              "      <td>26.36</td>\n",
              "      <td>26.41</td>\n",
              "      <td>6.09</td>\n",
              "      <td>6.09</td>\n",
              "      <td>6.50</td>\n",
              "      <td>6.50</td>\n",
              "      <td>0.231</td>\n",
              "      <td>0.231</td>\n",
              "      <td>0.246</td>\n",
              "      <td>0.246</td>\n",
              "    </tr>\n",
              "  </tbody>\n",
              "</table>\n",
              "</div>"
            ],
            "text/plain": [
              "   Sl No  Sample ID  ...  left canine index intraoral left canine index casts\n",
              "0      1        NaN  ...                        0.242                   0.241\n",
              "1      2        NaN  ...                        0.247                   0.247\n",
              "2      3        NaN  ...                        0.264                   0.264\n",
              "3      4        NaN  ...                        0.250                   0.250\n",
              "4      5        NaN  ...                        0.246                   0.246\n",
              "\n",
              "[5 rows x 14 columns]"
            ]
          },
          "metadata": {},
          "execution_count": 5
        }
      ]
    },
    {
      "cell_type": "code",
      "metadata": {
        "colab": {
          "base_uri": "https://localhost:8080/",
          "height": 237
        },
        "id": "3a5eJFwQKnQ-",
        "outputId": "505aa4d6-3694-4e70-c1eb-282d74cdefbe"
      },
      "source": [
        "skull_df.tail(5)"
      ],
      "execution_count": null,
      "outputs": [
        {
          "output_type": "execute_result",
          "data": {
            "text/html": [
              "<div>\n",
              "<style scoped>\n",
              "    .dataframe tbody tr th:only-of-type {\n",
              "        vertical-align: middle;\n",
              "    }\n",
              "\n",
              "    .dataframe tbody tr th {\n",
              "        vertical-align: top;\n",
              "    }\n",
              "\n",
              "    .dataframe thead th {\n",
              "        text-align: right;\n",
              "    }\n",
              "</style>\n",
              "<table border=\"1\" class=\"dataframe\">\n",
              "  <thead>\n",
              "    <tr style=\"text-align: right;\">\n",
              "      <th></th>\n",
              "      <th>Sl No</th>\n",
              "      <th>Sample ID</th>\n",
              "      <th>Age</th>\n",
              "      <th>Gender</th>\n",
              "      <th>inter canine distance intraoral</th>\n",
              "      <th>intercanine distance casts</th>\n",
              "      <th>right canine width intraoral</th>\n",
              "      <th>right canine width casts</th>\n",
              "      <th>left canine width intraoral</th>\n",
              "      <th>left canine width casts</th>\n",
              "      <th>right canine index intra oral</th>\n",
              "      <th>right canine index casts</th>\n",
              "      <th>left canine index intraoral</th>\n",
              "      <th>left canine index casts</th>\n",
              "    </tr>\n",
              "  </thead>\n",
              "  <tbody>\n",
              "    <tr>\n",
              "      <th>1095</th>\n",
              "      <td>1096</td>\n",
              "      <td>NaN</td>\n",
              "      <td>24</td>\n",
              "      <td>Male</td>\n",
              "      <td>24.29</td>\n",
              "      <td>24.29</td>\n",
              "      <td>6.58</td>\n",
              "      <td>6.58</td>\n",
              "      <td>6.60</td>\n",
              "      <td>6.60</td>\n",
              "      <td>0.271</td>\n",
              "      <td>0.271</td>\n",
              "      <td>0.272</td>\n",
              "      <td>0.272</td>\n",
              "    </tr>\n",
              "    <tr>\n",
              "      <th>1096</th>\n",
              "      <td>1097</td>\n",
              "      <td>NaN</td>\n",
              "      <td>22</td>\n",
              "      <td>Male</td>\n",
              "      <td>25.22</td>\n",
              "      <td>25.22</td>\n",
              "      <td>6.70</td>\n",
              "      <td>6.70</td>\n",
              "      <td>6.80</td>\n",
              "      <td>6.80</td>\n",
              "      <td>0.265</td>\n",
              "      <td>0.265</td>\n",
              "      <td>0.269</td>\n",
              "      <td>0.269</td>\n",
              "    </tr>\n",
              "    <tr>\n",
              "      <th>1097</th>\n",
              "      <td>1098</td>\n",
              "      <td>NaN</td>\n",
              "      <td>25</td>\n",
              "      <td>Male</td>\n",
              "      <td>24.24</td>\n",
              "      <td>24.24</td>\n",
              "      <td>6.60</td>\n",
              "      <td>6.60</td>\n",
              "      <td>6.61</td>\n",
              "      <td>6.61</td>\n",
              "      <td>0.272</td>\n",
              "      <td>0.272</td>\n",
              "      <td>0.272</td>\n",
              "      <td>0.272</td>\n",
              "    </tr>\n",
              "    <tr>\n",
              "      <th>1098</th>\n",
              "      <td>1099</td>\n",
              "      <td>NaN</td>\n",
              "      <td>21</td>\n",
              "      <td>Male</td>\n",
              "      <td>24.87</td>\n",
              "      <td>24.87</td>\n",
              "      <td>6.57</td>\n",
              "      <td>6.57</td>\n",
              "      <td>6.66</td>\n",
              "      <td>6.66</td>\n",
              "      <td>0.264</td>\n",
              "      <td>0.264</td>\n",
              "      <td>0.267</td>\n",
              "      <td>0.267</td>\n",
              "    </tr>\n",
              "    <tr>\n",
              "      <th>1099</th>\n",
              "      <td>1100</td>\n",
              "      <td>NaN</td>\n",
              "      <td>23</td>\n",
              "      <td>Male</td>\n",
              "      <td>24.51</td>\n",
              "      <td>24.51</td>\n",
              "      <td>6.36</td>\n",
              "      <td>6.36</td>\n",
              "      <td>6.78</td>\n",
              "      <td>6.78</td>\n",
              "      <td>0.259</td>\n",
              "      <td>0.259</td>\n",
              "      <td>0.276</td>\n",
              "      <td>0.276</td>\n",
              "    </tr>\n",
              "  </tbody>\n",
              "</table>\n",
              "</div>"
            ],
            "text/plain": [
              "      Sl No  Sample ID  ...  left canine index intraoral left canine index casts\n",
              "1095   1096        NaN  ...                        0.272                   0.272\n",
              "1096   1097        NaN  ...                        0.269                   0.269\n",
              "1097   1098        NaN  ...                        0.272                   0.272\n",
              "1098   1099        NaN  ...                        0.267                   0.267\n",
              "1099   1100        NaN  ...                        0.276                   0.276\n",
              "\n",
              "[5 rows x 14 columns]"
            ]
          },
          "metadata": {},
          "execution_count": 6
        }
      ]
    },
    {
      "cell_type": "code",
      "metadata": {
        "colab": {
          "base_uri": "https://localhost:8080/"
        },
        "id": "2SAyX7fSKqui",
        "outputId": "e3c05b4f-064c-4dca-a025-e8951dab75c8"
      },
      "source": [
        "skull_df.info()"
      ],
      "execution_count": null,
      "outputs": [
        {
          "output_type": "stream",
          "name": "stdout",
          "text": [
            "<class 'pandas.core.frame.DataFrame'>\n",
            "RangeIndex: 1100 entries, 0 to 1099\n",
            "Data columns (total 14 columns):\n",
            " #   Column                           Non-Null Count  Dtype  \n",
            "---  ------                           --------------  -----  \n",
            " 0   Sl No                            1100 non-null   int64  \n",
            " 1   Sample ID                        0 non-null      float64\n",
            " 2   Age                              1100 non-null   int64  \n",
            " 3   Gender                           1100 non-null   object \n",
            " 4   inter canine distance intraoral  1100 non-null   float64\n",
            " 5   intercanine distance casts       1100 non-null   float64\n",
            " 6   right canine width intraoral     1100 non-null   float64\n",
            " 7   right canine width casts         1100 non-null   float64\n",
            " 8   left canine width intraoral      1100 non-null   float64\n",
            " 9   left canine width casts          1100 non-null   float64\n",
            " 10  right canine index intra oral    1100 non-null   float64\n",
            " 11  right canine index casts         1100 non-null   float64\n",
            " 12  left canine index intraoral      1100 non-null   float64\n",
            " 13  left canine index casts          1100 non-null   float64\n",
            "dtypes: float64(11), int64(2), object(1)\n",
            "memory usage: 120.4+ KB\n"
          ]
        }
      ]
    },
    {
      "cell_type": "code",
      "metadata": {
        "colab": {
          "base_uri": "https://localhost:8080/",
          "height": 329
        },
        "id": "3nSdXfpKM6_7",
        "outputId": "db7250d7-891c-4a62-aa02-65d7d7e4b118"
      },
      "source": [
        "skull_df.describe()"
      ],
      "execution_count": null,
      "outputs": [
        {
          "output_type": "execute_result",
          "data": {
            "text/html": [
              "<div>\n",
              "<style scoped>\n",
              "    .dataframe tbody tr th:only-of-type {\n",
              "        vertical-align: middle;\n",
              "    }\n",
              "\n",
              "    .dataframe tbody tr th {\n",
              "        vertical-align: top;\n",
              "    }\n",
              "\n",
              "    .dataframe thead th {\n",
              "        text-align: right;\n",
              "    }\n",
              "</style>\n",
              "<table border=\"1\" class=\"dataframe\">\n",
              "  <thead>\n",
              "    <tr style=\"text-align: right;\">\n",
              "      <th></th>\n",
              "      <th>Sl No</th>\n",
              "      <th>Sample ID</th>\n",
              "      <th>Age</th>\n",
              "      <th>inter canine distance intraoral</th>\n",
              "      <th>intercanine distance casts</th>\n",
              "      <th>right canine width intraoral</th>\n",
              "      <th>right canine width casts</th>\n",
              "      <th>left canine width intraoral</th>\n",
              "      <th>left canine width casts</th>\n",
              "      <th>right canine index intra oral</th>\n",
              "      <th>right canine index casts</th>\n",
              "      <th>left canine index intraoral</th>\n",
              "      <th>left canine index casts</th>\n",
              "    </tr>\n",
              "  </thead>\n",
              "  <tbody>\n",
              "    <tr>\n",
              "      <th>count</th>\n",
              "      <td>1100.000000</td>\n",
              "      <td>0.0</td>\n",
              "      <td>1100.000000</td>\n",
              "      <td>1100.000000</td>\n",
              "      <td>1100.000000</td>\n",
              "      <td>1100.000000</td>\n",
              "      <td>1100.000000</td>\n",
              "      <td>1100.000000</td>\n",
              "      <td>1100.000000</td>\n",
              "      <td>1100.000000</td>\n",
              "      <td>1100.000000</td>\n",
              "      <td>1100.000000</td>\n",
              "      <td>1100.000000</td>\n",
              "    </tr>\n",
              "    <tr>\n",
              "      <th>mean</th>\n",
              "      <td>550.500000</td>\n",
              "      <td>NaN</td>\n",
              "      <td>21.625455</td>\n",
              "      <td>25.989009</td>\n",
              "      <td>25.880082</td>\n",
              "      <td>6.563000</td>\n",
              "      <td>6.564491</td>\n",
              "      <td>6.669627</td>\n",
              "      <td>6.675018</td>\n",
              "      <td>0.253122</td>\n",
              "      <td>0.252355</td>\n",
              "      <td>0.256453</td>\n",
              "      <td>0.256361</td>\n",
              "    </tr>\n",
              "    <tr>\n",
              "      <th>std</th>\n",
              "      <td>317.686953</td>\n",
              "      <td>NaN</td>\n",
              "      <td>2.085892</td>\n",
              "      <td>1.315292</td>\n",
              "      <td>1.862323</td>\n",
              "      <td>0.379035</td>\n",
              "      <td>0.377553</td>\n",
              "      <td>0.375841</td>\n",
              "      <td>0.377098</td>\n",
              "      <td>0.015344</td>\n",
              "      <td>0.012892</td>\n",
              "      <td>0.012355</td>\n",
              "      <td>0.012374</td>\n",
              "    </tr>\n",
              "    <tr>\n",
              "      <th>min</th>\n",
              "      <td>1.000000</td>\n",
              "      <td>NaN</td>\n",
              "      <td>18.000000</td>\n",
              "      <td>23.120000</td>\n",
              "      <td>6.540000</td>\n",
              "      <td>5.460000</td>\n",
              "      <td>5.460000</td>\n",
              "      <td>5.460000</td>\n",
              "      <td>5.460000</td>\n",
              "      <td>0.223000</td>\n",
              "      <td>0.223000</td>\n",
              "      <td>0.223000</td>\n",
              "      <td>0.223000</td>\n",
              "    </tr>\n",
              "    <tr>\n",
              "      <th>25%</th>\n",
              "      <td>275.750000</td>\n",
              "      <td>NaN</td>\n",
              "      <td>20.000000</td>\n",
              "      <td>25.000000</td>\n",
              "      <td>24.980000</td>\n",
              "      <td>6.290000</td>\n",
              "      <td>6.300000</td>\n",
              "      <td>6.400000</td>\n",
              "      <td>6.407500</td>\n",
              "      <td>0.242000</td>\n",
              "      <td>0.242000</td>\n",
              "      <td>0.247000</td>\n",
              "      <td>0.247000</td>\n",
              "    </tr>\n",
              "    <tr>\n",
              "      <th>50%</th>\n",
              "      <td>550.500000</td>\n",
              "      <td>NaN</td>\n",
              "      <td>22.000000</td>\n",
              "      <td>25.900000</td>\n",
              "      <td>25.900000</td>\n",
              "      <td>6.520000</td>\n",
              "      <td>6.520000</td>\n",
              "      <td>6.660000</td>\n",
              "      <td>6.680000</td>\n",
              "      <td>0.253000</td>\n",
              "      <td>0.253000</td>\n",
              "      <td>0.255000</td>\n",
              "      <td>0.255000</td>\n",
              "    </tr>\n",
              "    <tr>\n",
              "      <th>75%</th>\n",
              "      <td>825.250000</td>\n",
              "      <td>NaN</td>\n",
              "      <td>23.000000</td>\n",
              "      <td>26.992500</td>\n",
              "      <td>27.000000</td>\n",
              "      <td>6.802500</td>\n",
              "      <td>6.802500</td>\n",
              "      <td>6.910000</td>\n",
              "      <td>6.920000</td>\n",
              "      <td>0.262000</td>\n",
              "      <td>0.261250</td>\n",
              "      <td>0.264250</td>\n",
              "      <td>0.264000</td>\n",
              "    </tr>\n",
              "    <tr>\n",
              "      <th>max</th>\n",
              "      <td>1100.000000</td>\n",
              "      <td>NaN</td>\n",
              "      <td>25.000000</td>\n",
              "      <td>30.310000</td>\n",
              "      <td>30.310000</td>\n",
              "      <td>7.610000</td>\n",
              "      <td>7.600000</td>\n",
              "      <td>7.810000</td>\n",
              "      <td>7.810000</td>\n",
              "      <td>0.363000</td>\n",
              "      <td>0.302000</td>\n",
              "      <td>0.305000</td>\n",
              "      <td>0.304000</td>\n",
              "    </tr>\n",
              "  </tbody>\n",
              "</table>\n",
              "</div>"
            ],
            "text/plain": [
              "             Sl No  ...  left canine index casts\n",
              "count  1100.000000  ...              1100.000000\n",
              "mean    550.500000  ...                 0.256361\n",
              "std     317.686953  ...                 0.012374\n",
              "min       1.000000  ...                 0.223000\n",
              "25%     275.750000  ...                 0.247000\n",
              "50%     550.500000  ...                 0.255000\n",
              "75%     825.250000  ...                 0.264000\n",
              "max    1100.000000  ...                 0.304000\n",
              "\n",
              "[8 rows x 13 columns]"
            ]
          },
          "metadata": {},
          "execution_count": 8
        }
      ]
    },
    {
      "cell_type": "code",
      "metadata": {
        "id": "6j1jQ961NPLB"
      },
      "source": [
        "skull_df['Gender'] = skull_df['Gender'].apply(lambda x:1 if x == \"Male\" else 0)"
      ],
      "execution_count": null,
      "outputs": []
    },
    {
      "cell_type": "code",
      "metadata": {
        "colab": {
          "base_uri": "https://localhost:8080/",
          "height": 450
        },
        "id": "m0jP3Ew2QoM0",
        "outputId": "b289978c-741c-4c6f-8258-5a367d0369e3"
      },
      "source": [
        "skull_df"
      ],
      "execution_count": null,
      "outputs": [
        {
          "output_type": "execute_result",
          "data": {
            "text/html": [
              "<div>\n",
              "<style scoped>\n",
              "    .dataframe tbody tr th:only-of-type {\n",
              "        vertical-align: middle;\n",
              "    }\n",
              "\n",
              "    .dataframe tbody tr th {\n",
              "        vertical-align: top;\n",
              "    }\n",
              "\n",
              "    .dataframe thead th {\n",
              "        text-align: right;\n",
              "    }\n",
              "</style>\n",
              "<table border=\"1\" class=\"dataframe\">\n",
              "  <thead>\n",
              "    <tr style=\"text-align: right;\">\n",
              "      <th></th>\n",
              "      <th>Sl No</th>\n",
              "      <th>Sample ID</th>\n",
              "      <th>Age</th>\n",
              "      <th>Gender</th>\n",
              "      <th>inter canine distance intraoral</th>\n",
              "      <th>intercanine distance casts</th>\n",
              "      <th>right canine width intraoral</th>\n",
              "      <th>right canine width casts</th>\n",
              "      <th>left canine width intraoral</th>\n",
              "      <th>left canine width casts</th>\n",
              "      <th>right canine index intra oral</th>\n",
              "      <th>right canine index casts</th>\n",
              "      <th>left canine index intraoral</th>\n",
              "      <th>left canine index casts</th>\n",
              "    </tr>\n",
              "  </thead>\n",
              "  <tbody>\n",
              "    <tr>\n",
              "      <th>0</th>\n",
              "      <td>1</td>\n",
              "      <td>NaN</td>\n",
              "      <td>24</td>\n",
              "      <td>0</td>\n",
              "      <td>25.06</td>\n",
              "      <td>25.05</td>\n",
              "      <td>6.08</td>\n",
              "      <td>6.08</td>\n",
              "      <td>6.09</td>\n",
              "      <td>6.10</td>\n",
              "      <td>0.242</td>\n",
              "      <td>0.242</td>\n",
              "      <td>0.242</td>\n",
              "      <td>0.241</td>\n",
              "    </tr>\n",
              "    <tr>\n",
              "      <th>1</th>\n",
              "      <td>2</td>\n",
              "      <td>NaN</td>\n",
              "      <td>22</td>\n",
              "      <td>0</td>\n",
              "      <td>25.78</td>\n",
              "      <td>25.79</td>\n",
              "      <td>6.13</td>\n",
              "      <td>6.13</td>\n",
              "      <td>6.33</td>\n",
              "      <td>6.33</td>\n",
              "      <td>0.237</td>\n",
              "      <td>0.237</td>\n",
              "      <td>0.247</td>\n",
              "      <td>0.247</td>\n",
              "    </tr>\n",
              "    <tr>\n",
              "      <th>2</th>\n",
              "      <td>3</td>\n",
              "      <td>NaN</td>\n",
              "      <td>23</td>\n",
              "      <td>0</td>\n",
              "      <td>23.83</td>\n",
              "      <td>23.83</td>\n",
              "      <td>5.91</td>\n",
              "      <td>5.96</td>\n",
              "      <td>6.28</td>\n",
              "      <td>6.28</td>\n",
              "      <td>0.248</td>\n",
              "      <td>0.248</td>\n",
              "      <td>0.264</td>\n",
              "      <td>0.264</td>\n",
              "    </tr>\n",
              "    <tr>\n",
              "      <th>3</th>\n",
              "      <td>4</td>\n",
              "      <td>NaN</td>\n",
              "      <td>20</td>\n",
              "      <td>0</td>\n",
              "      <td>26.12</td>\n",
              "      <td>26.12</td>\n",
              "      <td>6.08</td>\n",
              "      <td>6.08</td>\n",
              "      <td>6.56</td>\n",
              "      <td>6.56</td>\n",
              "      <td>0.232</td>\n",
              "      <td>0.232</td>\n",
              "      <td>0.250</td>\n",
              "      <td>0.250</td>\n",
              "    </tr>\n",
              "    <tr>\n",
              "      <th>4</th>\n",
              "      <td>5</td>\n",
              "      <td>NaN</td>\n",
              "      <td>20</td>\n",
              "      <td>0</td>\n",
              "      <td>26.36</td>\n",
              "      <td>26.41</td>\n",
              "      <td>6.09</td>\n",
              "      <td>6.09</td>\n",
              "      <td>6.50</td>\n",
              "      <td>6.50</td>\n",
              "      <td>0.231</td>\n",
              "      <td>0.231</td>\n",
              "      <td>0.246</td>\n",
              "      <td>0.246</td>\n",
              "    </tr>\n",
              "    <tr>\n",
              "      <th>...</th>\n",
              "      <td>...</td>\n",
              "      <td>...</td>\n",
              "      <td>...</td>\n",
              "      <td>...</td>\n",
              "      <td>...</td>\n",
              "      <td>...</td>\n",
              "      <td>...</td>\n",
              "      <td>...</td>\n",
              "      <td>...</td>\n",
              "      <td>...</td>\n",
              "      <td>...</td>\n",
              "      <td>...</td>\n",
              "      <td>...</td>\n",
              "      <td>...</td>\n",
              "    </tr>\n",
              "    <tr>\n",
              "      <th>1095</th>\n",
              "      <td>1096</td>\n",
              "      <td>NaN</td>\n",
              "      <td>24</td>\n",
              "      <td>1</td>\n",
              "      <td>24.29</td>\n",
              "      <td>24.29</td>\n",
              "      <td>6.58</td>\n",
              "      <td>6.58</td>\n",
              "      <td>6.60</td>\n",
              "      <td>6.60</td>\n",
              "      <td>0.271</td>\n",
              "      <td>0.271</td>\n",
              "      <td>0.272</td>\n",
              "      <td>0.272</td>\n",
              "    </tr>\n",
              "    <tr>\n",
              "      <th>1096</th>\n",
              "      <td>1097</td>\n",
              "      <td>NaN</td>\n",
              "      <td>22</td>\n",
              "      <td>1</td>\n",
              "      <td>25.22</td>\n",
              "      <td>25.22</td>\n",
              "      <td>6.70</td>\n",
              "      <td>6.70</td>\n",
              "      <td>6.80</td>\n",
              "      <td>6.80</td>\n",
              "      <td>0.265</td>\n",
              "      <td>0.265</td>\n",
              "      <td>0.269</td>\n",
              "      <td>0.269</td>\n",
              "    </tr>\n",
              "    <tr>\n",
              "      <th>1097</th>\n",
              "      <td>1098</td>\n",
              "      <td>NaN</td>\n",
              "      <td>25</td>\n",
              "      <td>1</td>\n",
              "      <td>24.24</td>\n",
              "      <td>24.24</td>\n",
              "      <td>6.60</td>\n",
              "      <td>6.60</td>\n",
              "      <td>6.61</td>\n",
              "      <td>6.61</td>\n",
              "      <td>0.272</td>\n",
              "      <td>0.272</td>\n",
              "      <td>0.272</td>\n",
              "      <td>0.272</td>\n",
              "    </tr>\n",
              "    <tr>\n",
              "      <th>1098</th>\n",
              "      <td>1099</td>\n",
              "      <td>NaN</td>\n",
              "      <td>21</td>\n",
              "      <td>1</td>\n",
              "      <td>24.87</td>\n",
              "      <td>24.87</td>\n",
              "      <td>6.57</td>\n",
              "      <td>6.57</td>\n",
              "      <td>6.66</td>\n",
              "      <td>6.66</td>\n",
              "      <td>0.264</td>\n",
              "      <td>0.264</td>\n",
              "      <td>0.267</td>\n",
              "      <td>0.267</td>\n",
              "    </tr>\n",
              "    <tr>\n",
              "      <th>1099</th>\n",
              "      <td>1100</td>\n",
              "      <td>NaN</td>\n",
              "      <td>23</td>\n",
              "      <td>1</td>\n",
              "      <td>24.51</td>\n",
              "      <td>24.51</td>\n",
              "      <td>6.36</td>\n",
              "      <td>6.36</td>\n",
              "      <td>6.78</td>\n",
              "      <td>6.78</td>\n",
              "      <td>0.259</td>\n",
              "      <td>0.259</td>\n",
              "      <td>0.276</td>\n",
              "      <td>0.276</td>\n",
              "    </tr>\n",
              "  </tbody>\n",
              "</table>\n",
              "<p>1100 rows × 14 columns</p>\n",
              "</div>"
            ],
            "text/plain": [
              "      Sl No  Sample ID  ...  left canine index intraoral  left canine index casts\n",
              "0         1        NaN  ...                        0.242                    0.241\n",
              "1         2        NaN  ...                        0.247                    0.247\n",
              "2         3        NaN  ...                        0.264                    0.264\n",
              "3         4        NaN  ...                        0.250                    0.250\n",
              "4         5        NaN  ...                        0.246                    0.246\n",
              "...     ...        ...  ...                          ...                      ...\n",
              "1095   1096        NaN  ...                        0.272                    0.272\n",
              "1096   1097        NaN  ...                        0.269                    0.269\n",
              "1097   1098        NaN  ...                        0.272                    0.272\n",
              "1098   1099        NaN  ...                        0.267                    0.267\n",
              "1099   1100        NaN  ...                        0.276                    0.276\n",
              "\n",
              "[1100 rows x 14 columns]"
            ]
          },
          "metadata": {},
          "execution_count": 10
        }
      ]
    },
    {
      "cell_type": "code",
      "metadata": {
        "colab": {
          "base_uri": "https://localhost:8080/",
          "height": 423
        },
        "id": "TG9AQ2ZZQtCQ",
        "outputId": "fb4456fd-c5b0-4ede-c73d-619b33f3386e"
      },
      "source": [
        "sns.heatmap(skull_df.isnull(), yticklabels = False, cbar = False, cmap = 'Blues')"
      ],
      "execution_count": null,
      "outputs": [
        {
          "output_type": "execute_result",
          "data": {
            "text/plain": [
              "<matplotlib.axes._subplots.AxesSubplot at 0x7f5c15a68a90>"
            ]
          },
          "metadata": {},
          "execution_count": 11
        },
        {
          "output_type": "display_data",
          "data": {
            "image/png": "[encoded data removed]",
            "text/plain": [
              "<Figure size 432x288 with 1 Axes>"
            ]
          },
          "metadata": {
            "needs_background": "light"
          }
        }
      ]
    },
    {
      "cell_type": "code",
      "metadata": {
        "colab": {
          "base_uri": "https://localhost:8080/",
          "height": 1000
        },
        "id": "qz6cY-8qSBjB",
        "outputId": "65bdc32d-62da-438a-91e0-f06ff5582ed7"
      },
      "source": [
        "skull_df.hist(bins = 30, figsize = (20, 20), color = 'g')"
      ],
      "execution_count": null,
      "outputs": [
        {
          "output_type": "execute_result",
          "data": {
            "text/plain": [
              "array([[<matplotlib.axes._subplots.AxesSubplot object at 0x7f5bfbffa210>,\n",
              "        <matplotlib.axes._subplots.AxesSubplot object at 0x7f5bfc02da90>,\n",
              "        <matplotlib.axes._subplots.AxesSubplot object at 0x7f5bfbf723d0>,\n",
              "        <matplotlib.axes._subplots.AxesSubplot object at 0x7f5bfbfabc10>],\n",
              "       [<matplotlib.axes._subplots.AxesSubplot object at 0x7f5bfbef2310>,\n",
              "        <matplotlib.axes._subplots.AxesSubplot object at 0x7f5bfbf2a4d0>,\n",
              "        <matplotlib.axes._subplots.AxesSubplot object at 0x7f5bfbedebd0>,\n",
              "        <matplotlib.axes._subplots.AxesSubplot object at 0x7f5bfbea11d0>],\n",
              "       [<matplotlib.axes._subplots.AxesSubplot object at 0x7f5bfbea1210>,\n",
              "        <matplotlib.axes._subplots.AxesSubplot object at 0x7f5bfbe55990>,\n",
              "        <matplotlib.axes._subplots.AxesSubplot object at 0x7f5bfbdcf5d0>,\n",
              "        <matplotlib.axes._subplots.AxesSubplot object at 0x7f5bfbd84c50>],\n",
              "       [<matplotlib.axes._subplots.AxesSubplot object at 0x7f5bfbd45310>,\n",
              "        <matplotlib.axes._subplots.AxesSubplot object at 0x7f5bfbcfc990>,\n",
              "        <matplotlib.axes._subplots.AxesSubplot object at 0x7f5bfbcb5fd0>,\n",
              "        <matplotlib.axes._subplots.AxesSubplot object at 0x7f5c04580910>]],\n",
              "      dtype=object)"
            ]
          },
          "metadata": {},
          "execution_count": 12
        },
        {
          "output_type": "display_data",
          "data": {
            "image/png": "[encoded data removed]",
            "text/plain": [
              "<Figure size 1440x1440 with 16 Axes>"
            ]
          },
          "metadata": {
            "needs_background": "light"
          }
        }
      ]
    },
    {
      "cell_type": "code",
      "metadata": {
        "id": "CXBtQQIYS0u3"
      },
      "source": [
        "skull_df.drop(['Sample ID', 'Sl No'], axis = 1, inplace = True)"
      ],
      "execution_count": null,
      "outputs": []
    },
    {
      "cell_type": "code",
      "metadata": {
        "colab": {
          "base_uri": "https://localhost:8080/",
          "height": 450
        },
        "id": "QzTsF79Gect5",
        "outputId": "82c1ca72-0521-4955-80c6-0f0efec09712"
      },
      "source": [
        "skull_df"
      ],
      "execution_count": null,
      "outputs": [
        {
          "output_type": "execute_result",
          "data": {
            "text/html": [
              "<div>\n",
              "<style scoped>\n",
              "    .dataframe tbody tr th:only-of-type {\n",
              "        vertical-align: middle;\n",
              "    }\n",
              "\n",
              "    .dataframe tbody tr th {\n",
              "        vertical-align: top;\n",
              "    }\n",
              "\n",
              "    .dataframe thead th {\n",
              "        text-align: right;\n",
              "    }\n",
              "</style>\n",
              "<table border=\"1\" class=\"dataframe\">\n",
              "  <thead>\n",
              "    <tr style=\"text-align: right;\">\n",
              "      <th></th>\n",
              "      <th>Age</th>\n",
              "      <th>Gender</th>\n",
              "      <th>inter canine distance intraoral</th>\n",
              "      <th>intercanine distance casts</th>\n",
              "      <th>right canine width intraoral</th>\n",
              "      <th>right canine width casts</th>\n",
              "      <th>left canine width intraoral</th>\n",
              "      <th>left canine width casts</th>\n",
              "      <th>right canine index intra oral</th>\n",
              "      <th>right canine index casts</th>\n",
              "      <th>left canine index intraoral</th>\n",
              "      <th>left canine index casts</th>\n",
              "    </tr>\n",
              "  </thead>\n",
              "  <tbody>\n",
              "    <tr>\n",
              "      <th>0</th>\n",
              "      <td>24</td>\n",
              "      <td>0</td>\n",
              "      <td>25.06</td>\n",
              "      <td>25.05</td>\n",
              "      <td>6.08</td>\n",
              "      <td>6.08</td>\n",
              "      <td>6.09</td>\n",
              "      <td>6.10</td>\n",
              "      <td>0.242</td>\n",
              "      <td>0.242</td>\n",
              "      <td>0.242</td>\n",
              "      <td>0.241</td>\n",
              "    </tr>\n",
              "    <tr>\n",
              "      <th>1</th>\n",
              "      <td>22</td>\n",
              "      <td>0</td>\n",
              "      <td>25.78</td>\n",
              "      <td>25.79</td>\n",
              "      <td>6.13</td>\n",
              "      <td>6.13</td>\n",
              "      <td>6.33</td>\n",
              "      <td>6.33</td>\n",
              "      <td>0.237</td>\n",
              "      <td>0.237</td>\n",
              "      <td>0.247</td>\n",
              "      <td>0.247</td>\n",
              "    </tr>\n",
              "    <tr>\n",
              "      <th>2</th>\n",
              "      <td>23</td>\n",
              "      <td>0</td>\n",
              "      <td>23.83</td>\n",
              "      <td>23.83</td>\n",
              "      <td>5.91</td>\n",
              "      <td>5.96</td>\n",
              "      <td>6.28</td>\n",
              "      <td>6.28</td>\n",
              "      <td>0.248</td>\n",
              "      <td>0.248</td>\n",
              "      <td>0.264</td>\n",
              "      <td>0.264</td>\n",
              "    </tr>\n",
              "    <tr>\n",
              "      <th>3</th>\n",
              "      <td>20</td>\n",
              "      <td>0</td>\n",
              "      <td>26.12</td>\n",
              "      <td>26.12</td>\n",
              "      <td>6.08</td>\n",
              "      <td>6.08</td>\n",
              "      <td>6.56</td>\n",
              "      <td>6.56</td>\n",
              "      <td>0.232</td>\n",
              "      <td>0.232</td>\n",
              "      <td>0.250</td>\n",
              "      <td>0.250</td>\n",
              "    </tr>\n",
              "    <tr>\n",
              "      <th>4</th>\n",
              "      <td>20</td>\n",
              "      <td>0</td>\n",
              "      <td>26.36</td>\n",
              "      <td>26.41</td>\n",
              "      <td>6.09</td>\n",
              "      <td>6.09</td>\n",
              "      <td>6.50</td>\n",
              "      <td>6.50</td>\n",
              "      <td>0.231</td>\n",
              "      <td>0.231</td>\n",
              "      <td>0.246</td>\n",
              "      <td>0.246</td>\n",
              "    </tr>\n",
              "    <tr>\n",
              "      <th>...</th>\n",
              "      <td>...</td>\n",
              "      <td>...</td>\n",
              "      <td>...</td>\n",
              "      <td>...</td>\n",
              "      <td>...</td>\n",
              "      <td>...</td>\n",
              "      <td>...</td>\n",
              "      <td>...</td>\n",
              "      <td>...</td>\n",
              "      <td>...</td>\n",
              "      <td>...</td>\n",
              "      <td>...</td>\n",
              "    </tr>\n",
              "    <tr>\n",
              "      <th>1095</th>\n",
              "      <td>24</td>\n",
              "      <td>1</td>\n",
              "      <td>24.29</td>\n",
              "      <td>24.29</td>\n",
              "      <td>6.58</td>\n",
              "      <td>6.58</td>\n",
              "      <td>6.60</td>\n",
              "      <td>6.60</td>\n",
              "      <td>0.271</td>\n",
              "      <td>0.271</td>\n",
              "      <td>0.272</td>\n",
              "      <td>0.272</td>\n",
              "    </tr>\n",
              "    <tr>\n",
              "      <th>1096</th>\n",
              "      <td>22</td>\n",
              "      <td>1</td>\n",
              "      <td>25.22</td>\n",
              "      <td>25.22</td>\n",
              "      <td>6.70</td>\n",
              "      <td>6.70</td>\n",
              "      <td>6.80</td>\n",
              "      <td>6.80</td>\n",
              "      <td>0.265</td>\n",
              "      <td>0.265</td>\n",
              "      <td>0.269</td>\n",
              "      <td>0.269</td>\n",
              "    </tr>\n",
              "    <tr>\n",
              "      <th>1097</th>\n",
              "      <td>25</td>\n",
              "      <td>1</td>\n",
              "      <td>24.24</td>\n",
              "      <td>24.24</td>\n",
              "      <td>6.60</td>\n",
              "      <td>6.60</td>\n",
              "      <td>6.61</td>\n",
              "      <td>6.61</td>\n",
              "      <td>0.272</td>\n",
              "      <td>0.272</td>\n",
              "      <td>0.272</td>\n",
              "      <td>0.272</td>\n",
              "    </tr>\n",
              "    <tr>\n",
              "      <th>1098</th>\n",
              "      <td>21</td>\n",
              "      <td>1</td>\n",
              "      <td>24.87</td>\n",
              "      <td>24.87</td>\n",
              "      <td>6.57</td>\n",
              "      <td>6.57</td>\n",
              "      <td>6.66</td>\n",
              "      <td>6.66</td>\n",
              "      <td>0.264</td>\n",
              "      <td>0.264</td>\n",
              "      <td>0.267</td>\n",
              "      <td>0.267</td>\n",
              "    </tr>\n",
              "    <tr>\n",
              "      <th>1099</th>\n",
              "      <td>23</td>\n",
              "      <td>1</td>\n",
              "      <td>24.51</td>\n",
              "      <td>24.51</td>\n",
              "      <td>6.36</td>\n",
              "      <td>6.36</td>\n",
              "      <td>6.78</td>\n",
              "      <td>6.78</td>\n",
              "      <td>0.259</td>\n",
              "      <td>0.259</td>\n",
              "      <td>0.276</td>\n",
              "      <td>0.276</td>\n",
              "    </tr>\n",
              "  </tbody>\n",
              "</table>\n",
              "<p>1100 rows × 12 columns</p>\n",
              "</div>"
            ],
            "text/plain": [
              "      Age  Gender  ...  left canine index intraoral  left canine index casts\n",
              "0      24       0  ...                        0.242                    0.241\n",
              "1      22       0  ...                        0.247                    0.247\n",
              "2      23       0  ...                        0.264                    0.264\n",
              "3      20       0  ...                        0.250                    0.250\n",
              "4      20       0  ...                        0.246                    0.246\n",
              "...   ...     ...  ...                          ...                      ...\n",
              "1095   24       1  ...                        0.272                    0.272\n",
              "1096   22       1  ...                        0.269                    0.269\n",
              "1097   25       1  ...                        0.272                    0.272\n",
              "1098   21       1  ...                        0.267                    0.267\n",
              "1099   23       1  ...                        0.276                    0.276\n",
              "\n",
              "[1100 rows x 12 columns]"
            ]
          },
          "metadata": {},
          "execution_count": 14
        }
      ]
    },
    {
      "cell_type": "code",
      "metadata": {
        "id": "RdE1uMh2efNW"
      },
      "source": [
        "male_df = skull_df[skull_df['Gender'] == 1]\n",
        "female_df = skull_df[skull_df['Gender'] == 0] "
      ],
      "execution_count": null,
      "outputs": []
    },
    {
      "cell_type": "code",
      "metadata": {
        "id": "lxSr2dCbhN-j",
        "colab": {
          "base_uri": "https://localhost:8080/"
        },
        "outputId": "3e315fd8-c150-4565-cb55-3aab87a7c936"
      },
      "source": [
        "print('Total = ', len(skull_df))\n",
        "print('Number of Female samples =', len(female_df))\n",
        "print('% of Female samples =', 1.*len(female_df)/len(skull_df) * 100, '%')"
      ],
      "execution_count": null,
      "outputs": [
        {
          "output_type": "stream",
          "name": "stdout",
          "text": [
            "Total =  1100\n",
            "Number of Female samples = 550\n",
            "% of Female samples = 50.0 %\n"
          ]
        }
      ]
    },
    {
      "cell_type": "code",
      "metadata": {
        "colab": {
          "base_uri": "https://localhost:8080/"
        },
        "id": "f421A0AyhvGT",
        "outputId": "0a4aa8d7-2c80-49b6-bbaa-2c415629a0b0"
      },
      "source": [
        "print('Total = ', len(skull_df))\n",
        "print('Number of Male samples =', len(male_df))\n",
        "print('% of Male samples =', 1.*len(male_df)/len(skull_df) * 100, '%')"
      ],
      "execution_count": null,
      "outputs": [
        {
          "output_type": "stream",
          "name": "stdout",
          "text": [
            "Total =  1100\n",
            "Number of Male samples = 550\n",
            "% of Male samples = 50.0 %\n"
          ]
        }
      ]
    },
    {
      "cell_type": "code",
      "metadata": {
        "colab": {
          "base_uri": "https://localhost:8080/",
          "height": 329
        },
        "id": "heLHHX_UkFPL",
        "outputId": "5628b01b-196c-4c80-c47f-89cac638d2c2"
      },
      "source": [
        "male_df.describe()"
      ],
      "execution_count": null,
      "outputs": [
        {
          "output_type": "execute_result",
          "data": {
            "text/html": [
              "<div>\n",
              "<style scoped>\n",
              "    .dataframe tbody tr th:only-of-type {\n",
              "        vertical-align: middle;\n",
              "    }\n",
              "\n",
              "    .dataframe tbody tr th {\n",
              "        vertical-align: top;\n",
              "    }\n",
              "\n",
              "    .dataframe thead th {\n",
              "        text-align: right;\n",
              "    }\n",
              "</style>\n",
              "<table border=\"1\" class=\"dataframe\">\n",
              "  <thead>\n",
              "    <tr style=\"text-align: right;\">\n",
              "      <th></th>\n",
              "      <th>Age</th>\n",
              "      <th>Gender</th>\n",
              "      <th>inter canine distance intraoral</th>\n",
              "      <th>intercanine distance casts</th>\n",
              "      <th>right canine width intraoral</th>\n",
              "      <th>right canine width casts</th>\n",
              "      <th>left canine width intraoral</th>\n",
              "      <th>left canine width casts</th>\n",
              "      <th>right canine index intra oral</th>\n",
              "      <th>right canine index casts</th>\n",
              "      <th>left canine index intraoral</th>\n",
              "      <th>left canine index casts</th>\n",
              "    </tr>\n",
              "  </thead>\n",
              "  <tbody>\n",
              "    <tr>\n",
              "      <th>count</th>\n",
              "      <td>550.000000</td>\n",
              "      <td>550.0</td>\n",
              "      <td>550.000000</td>\n",
              "      <td>550.000000</td>\n",
              "      <td>550.000000</td>\n",
              "      <td>550.000000</td>\n",
              "      <td>550.000000</td>\n",
              "      <td>550.000000</td>\n",
              "      <td>550.000000</td>\n",
              "      <td>550.000000</td>\n",
              "      <td>550.000000</td>\n",
              "      <td>550.000000</td>\n",
              "    </tr>\n",
              "    <tr>\n",
              "      <th>mean</th>\n",
              "      <td>21.896364</td>\n",
              "      <td>1.0</td>\n",
              "      <td>26.436655</td>\n",
              "      <td>26.216436</td>\n",
              "      <td>6.774382</td>\n",
              "      <td>6.775091</td>\n",
              "      <td>6.904927</td>\n",
              "      <td>6.914818</td>\n",
              "      <td>0.256244</td>\n",
              "      <td>0.256158</td>\n",
              "      <td>0.261136</td>\n",
              "      <td>0.261087</td>\n",
              "    </tr>\n",
              "    <tr>\n",
              "      <th>std</th>\n",
              "      <td>1.984958</td>\n",
              "      <td>0.0</td>\n",
              "      <td>1.191824</td>\n",
              "      <td>2.252513</td>\n",
              "      <td>0.335547</td>\n",
              "      <td>0.333448</td>\n",
              "      <td>0.305870</td>\n",
              "      <td>0.302066</td>\n",
              "      <td>0.013032</td>\n",
              "      <td>0.012990</td>\n",
              "      <td>0.012535</td>\n",
              "      <td>0.012506</td>\n",
              "    </tr>\n",
              "    <tr>\n",
              "      <th>min</th>\n",
              "      <td>18.000000</td>\n",
              "      <td>1.0</td>\n",
              "      <td>24.200000</td>\n",
              "      <td>6.540000</td>\n",
              "      <td>6.060000</td>\n",
              "      <td>6.060000</td>\n",
              "      <td>6.060000</td>\n",
              "      <td>6.060000</td>\n",
              "      <td>0.228000</td>\n",
              "      <td>0.228000</td>\n",
              "      <td>0.230000</td>\n",
              "      <td>0.229000</td>\n",
              "    </tr>\n",
              "    <tr>\n",
              "      <th>25%</th>\n",
              "      <td>20.000000</td>\n",
              "      <td>1.0</td>\n",
              "      <td>25.460000</td>\n",
              "      <td>25.460000</td>\n",
              "      <td>6.490000</td>\n",
              "      <td>6.490000</td>\n",
              "      <td>6.692500</td>\n",
              "      <td>6.710000</td>\n",
              "      <td>0.248000</td>\n",
              "      <td>0.248000</td>\n",
              "      <td>0.251250</td>\n",
              "      <td>0.252000</td>\n",
              "    </tr>\n",
              "    <tr>\n",
              "      <th>50%</th>\n",
              "      <td>22.000000</td>\n",
              "      <td>1.0</td>\n",
              "      <td>26.500000</td>\n",
              "      <td>26.505000</td>\n",
              "      <td>6.745000</td>\n",
              "      <td>6.745000</td>\n",
              "      <td>6.860000</td>\n",
              "      <td>6.885000</td>\n",
              "      <td>0.258000</td>\n",
              "      <td>0.258000</td>\n",
              "      <td>0.261000</td>\n",
              "      <td>0.261000</td>\n",
              "    </tr>\n",
              "    <tr>\n",
              "      <th>75%</th>\n",
              "      <td>23.000000</td>\n",
              "      <td>1.0</td>\n",
              "      <td>27.290000</td>\n",
              "      <td>27.280000</td>\n",
              "      <td>7.067500</td>\n",
              "      <td>7.067500</td>\n",
              "      <td>7.120000</td>\n",
              "      <td>7.120000</td>\n",
              "      <td>0.264000</td>\n",
              "      <td>0.264000</td>\n",
              "      <td>0.269000</td>\n",
              "      <td>0.268750</td>\n",
              "    </tr>\n",
              "    <tr>\n",
              "      <th>max</th>\n",
              "      <td>25.000000</td>\n",
              "      <td>1.0</td>\n",
              "      <td>30.310000</td>\n",
              "      <td>30.310000</td>\n",
              "      <td>7.610000</td>\n",
              "      <td>7.600000</td>\n",
              "      <td>7.810000</td>\n",
              "      <td>7.810000</td>\n",
              "      <td>0.302000</td>\n",
              "      <td>0.302000</td>\n",
              "      <td>0.305000</td>\n",
              "      <td>0.304000</td>\n",
              "    </tr>\n",
              "  </tbody>\n",
              "</table>\n",
              "</div>"
            ],
            "text/plain": [
              "              Age  Gender  ...  left canine index intraoral  left canine index casts\n",
              "count  550.000000   550.0  ...                   550.000000               550.000000\n",
              "mean    21.896364     1.0  ...                     0.261136                 0.261087\n",
              "std      1.984958     0.0  ...                     0.012535                 0.012506\n",
              "min     18.000000     1.0  ...                     0.230000                 0.229000\n",
              "25%     20.000000     1.0  ...                     0.251250                 0.252000\n",
              "50%     22.000000     1.0  ...                     0.261000                 0.261000\n",
              "75%     23.000000     1.0  ...                     0.269000                 0.268750\n",
              "max     25.000000     1.0  ...                     0.305000                 0.304000\n",
              "\n",
              "[8 rows x 12 columns]"
            ]
          },
          "metadata": {},
          "execution_count": 18
        }
      ]
    },
    {
      "cell_type": "code",
      "metadata": {
        "colab": {
          "base_uri": "https://localhost:8080/",
          "height": 329
        },
        "id": "qQ-M02askyOc",
        "outputId": "2adbcac5-2519-49aa-dea1-2e7bed89c606"
      },
      "source": [
        "female_df.describe()"
      ],
      "execution_count": null,
      "outputs": [
        {
          "output_type": "execute_result",
          "data": {
            "text/html": [
              "<div>\n",
              "<style scoped>\n",
              "    .dataframe tbody tr th:only-of-type {\n",
              "        vertical-align: middle;\n",
              "    }\n",
              "\n",
              "    .dataframe tbody tr th {\n",
              "        vertical-align: top;\n",
              "    }\n",
              "\n",
              "    .dataframe thead th {\n",
              "        text-align: right;\n",
              "    }\n",
              "</style>\n",
              "<table border=\"1\" class=\"dataframe\">\n",
              "  <thead>\n",
              "    <tr style=\"text-align: right;\">\n",
              "      <th></th>\n",
              "      <th>Age</th>\n",
              "      <th>Gender</th>\n",
              "      <th>inter canine distance intraoral</th>\n",
              "      <th>intercanine distance casts</th>\n",
              "      <th>right canine width intraoral</th>\n",
              "      <th>right canine width casts</th>\n",
              "      <th>left canine width intraoral</th>\n",
              "      <th>left canine width casts</th>\n",
              "      <th>right canine index intra oral</th>\n",
              "      <th>right canine index casts</th>\n",
              "      <th>left canine index intraoral</th>\n",
              "      <th>left canine index casts</th>\n",
              "    </tr>\n",
              "  </thead>\n",
              "  <tbody>\n",
              "    <tr>\n",
              "      <th>count</th>\n",
              "      <td>550.000000</td>\n",
              "      <td>550.0</td>\n",
              "      <td>550.000000</td>\n",
              "      <td>550.000000</td>\n",
              "      <td>550.000000</td>\n",
              "      <td>550.000000</td>\n",
              "      <td>550.000000</td>\n",
              "      <td>550.000000</td>\n",
              "      <td>550.000000</td>\n",
              "      <td>550.000000</td>\n",
              "      <td>550.000000</td>\n",
              "      <td>550.000000</td>\n",
              "    </tr>\n",
              "    <tr>\n",
              "      <th>mean</th>\n",
              "      <td>21.354545</td>\n",
              "      <td>0.0</td>\n",
              "      <td>25.541364</td>\n",
              "      <td>25.543727</td>\n",
              "      <td>6.351618</td>\n",
              "      <td>6.353891</td>\n",
              "      <td>6.434327</td>\n",
              "      <td>6.435218</td>\n",
              "      <td>0.250000</td>\n",
              "      <td>0.248551</td>\n",
              "      <td>0.251769</td>\n",
              "      <td>0.251635</td>\n",
              "    </tr>\n",
              "    <tr>\n",
              "      <th>std</th>\n",
              "      <td>2.150047</td>\n",
              "      <td>0.0</td>\n",
              "      <td>1.281089</td>\n",
              "      <td>1.281528</td>\n",
              "      <td>0.292365</td>\n",
              "      <td>0.292057</td>\n",
              "      <td>0.279786</td>\n",
              "      <td>0.279648</td>\n",
              "      <td>0.016791</td>\n",
              "      <td>0.011619</td>\n",
              "      <td>0.010224</td>\n",
              "      <td>0.010264</td>\n",
              "    </tr>\n",
              "    <tr>\n",
              "      <th>min</th>\n",
              "      <td>18.000000</td>\n",
              "      <td>0.0</td>\n",
              "      <td>23.120000</td>\n",
              "      <td>23.120000</td>\n",
              "      <td>5.460000</td>\n",
              "      <td>5.460000</td>\n",
              "      <td>5.460000</td>\n",
              "      <td>5.460000</td>\n",
              "      <td>0.223000</td>\n",
              "      <td>0.223000</td>\n",
              "      <td>0.223000</td>\n",
              "      <td>0.223000</td>\n",
              "    </tr>\n",
              "    <tr>\n",
              "      <th>25%</th>\n",
              "      <td>20.000000</td>\n",
              "      <td>0.0</td>\n",
              "      <td>24.590000</td>\n",
              "      <td>24.582500</td>\n",
              "      <td>6.130000</td>\n",
              "      <td>6.130000</td>\n",
              "      <td>6.220000</td>\n",
              "      <td>6.230000</td>\n",
              "      <td>0.240000</td>\n",
              "      <td>0.240000</td>\n",
              "      <td>0.244000</td>\n",
              "      <td>0.244000</td>\n",
              "    </tr>\n",
              "    <tr>\n",
              "      <th>50%</th>\n",
              "      <td>21.000000</td>\n",
              "      <td>0.0</td>\n",
              "      <td>25.395000</td>\n",
              "      <td>25.395000</td>\n",
              "      <td>6.310000</td>\n",
              "      <td>6.320000</td>\n",
              "      <td>6.440000</td>\n",
              "      <td>6.445000</td>\n",
              "      <td>0.249000</td>\n",
              "      <td>0.249000</td>\n",
              "      <td>0.251000</td>\n",
              "      <td>0.251000</td>\n",
              "    </tr>\n",
              "    <tr>\n",
              "      <th>75%</th>\n",
              "      <td>23.000000</td>\n",
              "      <td>0.0</td>\n",
              "      <td>26.217500</td>\n",
              "      <td>26.237500</td>\n",
              "      <td>6.560000</td>\n",
              "      <td>6.560000</td>\n",
              "      <td>6.640000</td>\n",
              "      <td>6.640000</td>\n",
              "      <td>0.256000</td>\n",
              "      <td>0.256000</td>\n",
              "      <td>0.258000</td>\n",
              "      <td>0.258000</td>\n",
              "    </tr>\n",
              "    <tr>\n",
              "      <th>max</th>\n",
              "      <td>25.000000</td>\n",
              "      <td>0.0</td>\n",
              "      <td>28.960000</td>\n",
              "      <td>28.960000</td>\n",
              "      <td>7.140000</td>\n",
              "      <td>7.140000</td>\n",
              "      <td>7.150000</td>\n",
              "      <td>7.140000</td>\n",
              "      <td>0.363000</td>\n",
              "      <td>0.280000</td>\n",
              "      <td>0.280000</td>\n",
              "      <td>0.280000</td>\n",
              "    </tr>\n",
              "  </tbody>\n",
              "</table>\n",
              "</div>"
            ],
            "text/plain": [
              "              Age  Gender  ...  left canine index intraoral  left canine index casts\n",
              "count  550.000000   550.0  ...                   550.000000               550.000000\n",
              "mean    21.354545     0.0  ...                     0.251769                 0.251635\n",
              "std      2.150047     0.0  ...                     0.010224                 0.010264\n",
              "min     18.000000     0.0  ...                     0.223000                 0.223000\n",
              "25%     20.000000     0.0  ...                     0.244000                 0.244000\n",
              "50%     21.000000     0.0  ...                     0.251000                 0.251000\n",
              "75%     23.000000     0.0  ...                     0.258000                 0.258000\n",
              "max     25.000000     0.0  ...                     0.280000                 0.280000\n",
              "\n",
              "[8 rows x 12 columns]"
            ]
          },
          "metadata": {},
          "execution_count": 19
        }
      ]
    },
    {
      "cell_type": "code",
      "metadata": {
        "colab": {
          "base_uri": "https://localhost:8080/",
          "height": 1000
        },
        "id": "VLtPd0zVlpUW",
        "outputId": "34de62c6-a744-4387-ceaf-3d1a6375ea34"
      },
      "source": [
        "correlations = skull_df.corr()\n",
        "f, ax = plt.subplots(figsize = (20, 20))\n",
        "sns.heatmap(correlations, annot = True)"
      ],
      "execution_count": null,
      "outputs": [
        {
          "output_type": "execute_result",
          "data": {
            "text/plain": [
              "<matplotlib.axes._subplots.AxesSubplot at 0x7f5bfb53d490>"
            ]
          },
          "metadata": {},
          "execution_count": 20
        },
        {
          "output_type": "display_data",
          "data": {
            "image/png": "[encoded data removed]",
            "text/plain": [
              "<Figure size 1440x1440 with 2 Axes>"
            ]
          },
          "metadata": {
            "needs_background": "light"
          }
        }
      ]
    },
    {
      "cell_type": "code",
      "metadata": {
        "colab": {
          "base_uri": "https://localhost:8080/",
          "height": 714
        },
        "id": "TjAKdGGdsxy3",
        "outputId": "56fd9a1f-65e3-4f56-ee1e-65b633768a5a"
      },
      "source": [
        "plt.figure(figsize = [25, 12])\n",
        "sns.countplot(x = 'Age', hue = 'Gender', data = skull_df)"
      ],
      "execution_count": null,
      "outputs": [
        {
          "output_type": "execute_result",
          "data": {
            "text/plain": [
              "<matplotlib.axes._subplots.AxesSubplot at 0x7f5bf8884550>"
            ]
          },
          "metadata": {},
          "execution_count": 21
        },
        {
          "output_type": "display_data",
          "data": {
            "image/png": "[encoded data removed]",
            "text/plain": [
              "<Figure size 1800x864 with 1 Axes>"
            ]
          },
          "metadata": {
            "needs_background": "light"
          }
        }
      ]
    },
    {
      "cell_type": "code",
      "metadata": {
        "colab": {
          "base_uri": "https://localhost:8080/",
          "height": 459
        },
        "id": "uooL7VMeLwLm",
        "outputId": "848693de-e5ab-452b-b359-c7b0ca805fb8"
      },
      "source": [
        "plt.figure(figsize = (12, 7))\n",
        "sns.kdeplot(male_df['right canine width intraoral'], label= 'Male', shade = 'True', color = 'b')\n",
        "sns.kdeplot(female_df['right canine width intraoral'], label = 'Female', shade = 'True', color = 'r')\n",
        "\n",
        "plt.xlabel('Right Canine Width Intraoral')"
      ],
      "execution_count": null,
      "outputs": [
        {
          "output_type": "execute_result",
          "data": {
            "text/plain": [
              "Text(0.5, 0, 'Right Canine Width Intraoral')"
            ]
          },
          "metadata": {},
          "execution_count": 22
        },
        {
          "output_type": "display_data",
          "data": {
            "image/png": "[encoded data removed]",
            "text/plain": [
              "<Figure size 864x504 with 1 Axes>"
            ]
          },
          "metadata": {
            "needs_background": "light"
          }
        }
      ]
    },
    {
      "cell_type": "code",
      "metadata": {
        "colab": {
          "base_uri": "https://localhost:8080/",
          "height": 459
        },
        "id": "PfTVHz3-PNhj",
        "outputId": "7bdc95ff-0519-4a6e-dead-d92186197913"
      },
      "source": [
        "plt.figure(figsize = (12, 7))\n",
        "sns.kdeplot(male_df['right canine width casts'], label= 'Male', shade = 'True', color = 'b')\n",
        "sns.kdeplot(female_df['right canine width casts'], label = 'Female', shade = 'True', color = 'r')\n",
        "\n",
        "plt.xlabel('Right Canine Width Casts')"
      ],
      "execution_count": null,
      "outputs": [
        {
          "output_type": "execute_result",
          "data": {
            "text/plain": [
              "Text(0.5, 0, 'Right Canine Width Casts')"
            ]
          },
          "metadata": {},
          "execution_count": 23
        },
        {
          "output_type": "display_data",
          "data": {
            "image/png": "[encoded data removed]",
            "text/plain": [
              "<Figure size 864x504 with 1 Axes>"
            ]
          },
          "metadata": {
            "needs_background": "light"
          }
        }
      ]
    },
    {
      "cell_type": "code",
      "metadata": {
        "id": "NWufFnb3V4cV",
        "colab": {
          "base_uri": "https://localhost:8080/",
          "height": 459
        },
        "outputId": "665ef949-34a8-4aee-f727-30e155aae609"
      },
      "source": [
        "plt.figure(figsize = (12, 7))\n",
        "sns.kdeplot(male_df['left canine width intraoral'], label= 'Male', shade = 'True', color = 'b')\n",
        "sns.kdeplot(female_df['left canine width intraoral'], label = 'Female', shade = 'True', color = 'r')\n",
        "\n",
        "plt.xlabel('Left Canine Width Intraoral')"
      ],
      "execution_count": null,
      "outputs": [
        {
          "output_type": "execute_result",
          "data": {
            "text/plain": [
              "Text(0.5, 0, 'Left Canine Width Intraoral')"
            ]
          },
          "metadata": {},
          "execution_count": 24
        },
        {
          "output_type": "display_data",
          "data": {
            "image/png": "[encoded data removed]",
            "text/plain": [
              "<Figure size 864x504 with 1 Axes>"
            ]
          },
          "metadata": {
            "needs_background": "light"
          }
        }
      ]
    },
    {
      "cell_type": "code",
      "metadata": {
        "colab": {
          "base_uri": "https://localhost:8080/",
          "height": 459
        },
        "id": "GynaUVG3WSd7",
        "outputId": "ecb148f8-5451-460f-dea9-eb98067f2070"
      },
      "source": [
        "plt.figure(figsize = (12, 7))\n",
        "sns.kdeplot(male_df['left canine width casts'], label= 'Male', shade = 'True', color = 'b')\n",
        "sns.kdeplot(female_df['left canine width casts'], label = 'Female', shade = 'True', color = 'r')\n",
        "\n",
        "plt.xlabel('Left Canine Width Casts')"
      ],
      "execution_count": null,
      "outputs": [
        {
          "output_type": "execute_result",
          "data": {
            "text/plain": [
              "Text(0.5, 0, 'Left Canine Width Casts')"
            ]
          },
          "metadata": {},
          "execution_count": 25
        },
        {
          "output_type": "display_data",
          "data": {
            "image/png": "[encoded data removed]",
            "text/plain": [
              "<Figure size 864x504 with 1 Axes>"
            ]
          },
          "metadata": {
            "needs_background": "light"
          }
        }
      ]
    },
    {
      "cell_type": "code",
      "metadata": {
        "colab": {
          "base_uri": "https://localhost:8080/",
          "height": 459
        },
        "id": "FBzRfcfrWf_j",
        "outputId": "f6e23dc3-19ac-4ee6-de23-39fc66825d62"
      },
      "source": [
        "plt.figure(figsize = (12, 7))\n",
        "sns.boxplot(x = 'Gender', y = 'inter canine distance intraoral', data = skull_df)"
      ],
      "execution_count": null,
      "outputs": [
        {
          "output_type": "execute_result",
          "data": {
            "text/plain": [
              "<matplotlib.axes._subplots.AxesSubplot at 0x7f5bf8688a90>"
            ]
          },
          "metadata": {},
          "execution_count": 26
        },
        {
          "output_type": "display_data",
          "data": {
            "image/png": "[encoded data removed]",
            "text/plain": [
              "<Figure size 864x504 with 1 Axes>"
            ]
          },
          "metadata": {
            "needs_background": "light"
          }
        }
      ]
    },
    {
      "cell_type": "code",
      "metadata": {
        "colab": {
          "base_uri": "https://localhost:8080/",
          "height": 459
        },
        "id": "8sQ8yfQgaXc9",
        "outputId": "c2b6333e-8089-40b2-e9a8-a8828c129d79"
      },
      "source": [
        "plt.figure(figsize = (12, 7))\n",
        "sns.boxplot(x = 'Gender', y = 'intercanine distance casts', data = skull_df)"
      ],
      "execution_count": null,
      "outputs": [
        {
          "output_type": "execute_result",
          "data": {
            "text/plain": [
              "<matplotlib.axes._subplots.AxesSubplot at 0x7f5bf8661f10>"
            ]
          },
          "metadata": {},
          "execution_count": 27
        },
        {
          "output_type": "display_data",
          "data": {
            "image/png": "[encoded data removed]",
            "text/plain": [
              "<Figure size 864x504 with 1 Axes>"
            ]
          },
          "metadata": {
            "needs_background": "light"
          }
        }
      ]
    },
    {
      "cell_type": "code",
      "metadata": {
        "colab": {
          "base_uri": "https://localhost:8080/",
          "height": 175
        },
        "id": "bBbeYeyQbqNi",
        "outputId": "c5e5fc58-d4a5-42be-992b-d0abedb58c1c"
      },
      "source": [
        "skull_df.head(3)"
      ],
      "execution_count": null,
      "outputs": [
        {
          "output_type": "execute_result",
          "data": {
            "text/html": [
              "<div>\n",
              "<style scoped>\n",
              "    .dataframe tbody tr th:only-of-type {\n",
              "        vertical-align: middle;\n",
              "    }\n",
              "\n",
              "    .dataframe tbody tr th {\n",
              "        vertical-align: top;\n",
              "    }\n",
              "\n",
              "    .dataframe thead th {\n",
              "        text-align: right;\n",
              "    }\n",
              "</style>\n",
              "<table border=\"1\" class=\"dataframe\">\n",
              "  <thead>\n",
              "    <tr style=\"text-align: right;\">\n",
              "      <th></th>\n",
              "      <th>Age</th>\n",
              "      <th>Gender</th>\n",
              "      <th>inter canine distance intraoral</th>\n",
              "      <th>intercanine distance casts</th>\n",
              "      <th>right canine width intraoral</th>\n",
              "      <th>right canine width casts</th>\n",
              "      <th>left canine width intraoral</th>\n",
              "      <th>left canine width casts</th>\n",
              "      <th>right canine index intra oral</th>\n",
              "      <th>right canine index casts</th>\n",
              "      <th>left canine index intraoral</th>\n",
              "      <th>left canine index casts</th>\n",
              "    </tr>\n",
              "  </thead>\n",
              "  <tbody>\n",
              "    <tr>\n",
              "      <th>0</th>\n",
              "      <td>24</td>\n",
              "      <td>0</td>\n",
              "      <td>25.06</td>\n",
              "      <td>25.05</td>\n",
              "      <td>6.08</td>\n",
              "      <td>6.08</td>\n",
              "      <td>6.09</td>\n",
              "      <td>6.10</td>\n",
              "      <td>0.242</td>\n",
              "      <td>0.242</td>\n",
              "      <td>0.242</td>\n",
              "      <td>0.241</td>\n",
              "    </tr>\n",
              "    <tr>\n",
              "      <th>1</th>\n",
              "      <td>22</td>\n",
              "      <td>0</td>\n",
              "      <td>25.78</td>\n",
              "      <td>25.79</td>\n",
              "      <td>6.13</td>\n",
              "      <td>6.13</td>\n",
              "      <td>6.33</td>\n",
              "      <td>6.33</td>\n",
              "      <td>0.237</td>\n",
              "      <td>0.237</td>\n",
              "      <td>0.247</td>\n",
              "      <td>0.247</td>\n",
              "    </tr>\n",
              "    <tr>\n",
              "      <th>2</th>\n",
              "      <td>23</td>\n",
              "      <td>0</td>\n",
              "      <td>23.83</td>\n",
              "      <td>23.83</td>\n",
              "      <td>5.91</td>\n",
              "      <td>5.96</td>\n",
              "      <td>6.28</td>\n",
              "      <td>6.28</td>\n",
              "      <td>0.248</td>\n",
              "      <td>0.248</td>\n",
              "      <td>0.264</td>\n",
              "      <td>0.264</td>\n",
              "    </tr>\n",
              "  </tbody>\n",
              "</table>\n",
              "</div>"
            ],
            "text/plain": [
              "   Age  Gender  ...  left canine index intraoral  left canine index casts\n",
              "0   24       0  ...                        0.242                    0.241\n",
              "1   22       0  ...                        0.247                    0.247\n",
              "2   23       0  ...                        0.264                    0.264\n",
              "\n",
              "[3 rows x 12 columns]"
            ]
          },
          "metadata": {},
          "execution_count": 28
        }
      ]
    },
    {
      "cell_type": "code",
      "metadata": {
        "id": "whK1wiZqeucu"
      },
      "source": [
        "from sklearn.preprocessing import MinMaxScaler\n",
        "scaler = MinMaxScaler()\n",
        "x = scaler.fit_transform(skull_df)"
      ],
      "execution_count": null,
      "outputs": []
    },
    {
      "cell_type": "code",
      "metadata": {
        "colab": {
          "base_uri": "https://localhost:8080/"
        },
        "id": "aZ19bKnq37iZ",
        "outputId": "dabf1942-6346-4834-de81-ee7d343763c2"
      },
      "source": [
        "X"
      ],
      "execution_count": null,
      "outputs": [
        {
          "output_type": "execute_result",
          "data": {
            "text/plain": [
              "array([[0.85714286, 0.        , 0.26981919, ..., 0.24050633, 0.23170732,\n",
              "        0.22222222],\n",
              "       [0.57142857, 0.        , 0.36995828, ..., 0.17721519, 0.29268293,\n",
              "        0.2962963 ],\n",
              "       [0.71428571, 0.        , 0.09874826, ..., 0.3164557 , 0.5       ,\n",
              "        0.50617284],\n",
              "       ...,\n",
              "       [1.        , 1.        , 0.15577191, ..., 0.62025316, 0.59756098,\n",
              "        0.60493827],\n",
              "       [0.42857143, 1.        , 0.2433936 , ..., 0.51898734, 0.53658537,\n",
              "        0.54320988],\n",
              "       [0.71428571, 1.        , 0.19332406, ..., 0.4556962 , 0.64634146,\n",
              "        0.65432099]])"
            ]
          },
          "metadata": {},
          "execution_count": 34
        }
      ]
    },
    {
      "cell_type": "code",
      "metadata": {
        "id": "AxwtfIr54XGR"
      },
      "source": [
        "y = skull_df['Gender']"
      ],
      "execution_count": null,
      "outputs": []
    },
    {
      "cell_type": "code",
      "metadata": {
        "colab": {
          "base_uri": "https://localhost:8080/"
        },
        "id": "3Xuak2JJ4pAB",
        "outputId": "82d02e48-8ce3-4c63-c4cb-700526824e6f"
      },
      "source": [
        "y"
      ],
      "execution_count": null,
      "outputs": [
        {
          "output_type": "execute_result",
          "data": {
            "text/plain": [
              "0       0\n",
              "1       0\n",
              "2       0\n",
              "3       0\n",
              "4       0\n",
              "       ..\n",
              "1095    1\n",
              "1096    1\n",
              "1097    1\n",
              "1098    1\n",
              "1099    1\n",
              "Name: Gender, Length: 1100, dtype: int64"
            ]
          },
          "metadata": {},
          "execution_count": 36
        }
      ]
    },
    {
      "cell_type": "code",
      "metadata": {
        "id": "6_TW3XcA4p35"
      },
      "source": [
        "# Logistic Regression Classifier\n"
      ],
      "execution_count": null,
      "outputs": []
    },
    {
      "cell_type": "code",
      "metadata": {
        "id": "yJ5Ai9-46Q--"
      },
      "source": [
        "from sklearn.model_selection import train_test_split\n",
        "x_train, x_test, y_train, y_test = train_test_split(x, y, test_size = 0.25)"
      ],
      "execution_count": null,
      "outputs": []
    },
    {
      "cell_type": "code",
      "metadata": {
        "colab": {
          "base_uri": "https://localhost:8080/"
        },
        "id": "hhEhzOOD6uiW",
        "outputId": "4e9bc223-0412-453c-ddad-13f8a520a298"
      },
      "source": [
        "x_train.shape"
      ],
      "execution_count": null,
      "outputs": [
        {
          "output_type": "execute_result",
          "data": {
            "text/plain": [
              "(825, 12)"
            ]
          },
          "metadata": {},
          "execution_count": 38
        }
      ]
    },
    {
      "cell_type": "code",
      "metadata": {
        "colab": {
          "base_uri": "https://localhost:8080/"
        },
        "id": "JgYG8s5d6zo6",
        "outputId": "07cae83a-ab40-41cb-8f22-79b9ff10e2f6"
      },
      "source": [
        "x_test.shape"
      ],
      "execution_count": null,
      "outputs": [
        {
          "output_type": "execute_result",
          "data": {
            "text/plain": [
              "(275, 12)"
            ]
          },
          "metadata": {},
          "execution_count": 39
        }
      ]
    },
    {
      "cell_type": "code",
      "metadata": {
        "id": "9rVU8CxF7LNT"
      },
      "source": [
        "from sklearn.linear_model import LogisticRegression\n",
        "from sklearn.metrics import accuracy_score"
      ],
      "execution_count": null,
      "outputs": []
    },
    {
      "cell_type": "code",
      "metadata": {
        "colab": {
          "base_uri": "https://localhost:8080/"
        },
        "id": "rN3UjmZi7Yxv",
        "outputId": "8b5dd2d9-c48e-4378-8082-526a8436ae1a"
      },
      "source": [
        "model = LogisticRegression()\n",
        "model.fit(x_train, y_train)"
      ],
      "execution_count": null,
      "outputs": [
        {
          "output_type": "execute_result",
          "data": {
            "text/plain": [
              "LogisticRegression(C=1.0, class_weight=None, dual=False, fit_intercept=True,\n",
              "                   intercept_scaling=1, l1_ratio=None, max_iter=100,\n",
              "                   multi_class='auto', n_jobs=None, penalty='l2',\n",
              "                   random_state=None, solver='lbfgs', tol=0.0001, verbose=0,\n",
              "                   warm_start=False)"
            ]
          },
          "metadata": {},
          "execution_count": 41
        }
      ]
    },
    {
      "cell_type": "code",
      "metadata": {
        "id": "qLy_gfNl7kp5"
      },
      "source": [
        "y_pred = model.predict(x_test)"
      ],
      "execution_count": null,
      "outputs": []
    },
    {
      "cell_type": "code",
      "metadata": {
        "colab": {
          "base_uri": "https://localhost:8080/"
        },
        "id": "BOuY9oCc70O3",
        "outputId": "36f8ecf3-465b-46af-d6e4-faad83320523"
      },
      "source": [
        "# Testing Set Performace\n",
        "y_pred"
      ],
      "execution_count": null,
      "outputs": [
        {
          "output_type": "execute_result",
          "data": {
            "text/plain": [
              "array([0, 1, 0, 0, 0, 0, 1, 1, 1, 0, 1, 1, 0, 1, 0, 1, 1, 1, 0, 1, 1, 0,\n",
              "       1, 0, 0, 1, 1, 1, 0, 0, 1, 1, 1, 1, 1, 0, 0, 0, 0, 1, 1, 1, 1, 0,\n",
              "       1, 0, 0, 1, 1, 0, 0, 0, 1, 0, 0, 1, 0, 1, 0, 0, 0, 1, 1, 1, 1, 1,\n",
              "       0, 0, 1, 0, 1, 1, 1, 1, 1, 1, 0, 1, 1, 0, 1, 0, 0, 0, 0, 0, 1, 0,\n",
              "       1, 1, 0, 0, 0, 1, 1, 1, 1, 0, 1, 0, 0, 1, 0, 1, 0, 1, 1, 1, 0, 0,\n",
              "       0, 1, 1, 1, 1, 0, 1, 1, 1, 1, 0, 0, 1, 1, 1, 0, 0, 1, 0, 1, 0, 0,\n",
              "       0, 0, 0, 1, 1, 1, 0, 0, 0, 0, 1, 1, 0, 0, 1, 1, 1, 0, 0, 0, 0, 1,\n",
              "       1, 0, 1, 0, 0, 1, 0, 1, 1, 0, 0, 0, 1, 1, 0, 1, 0, 1, 0, 0, 1, 1,\n",
              "       0, 0, 1, 0, 1, 0, 0, 0, 1, 1, 0, 1, 1, 1, 0, 1, 1, 1, 1, 0, 0, 0,\n",
              "       0, 0, 0, 1, 0, 1, 0, 0, 1, 0, 1, 1, 0, 1, 0, 0, 0, 1, 1, 1, 1, 0,\n",
              "       0, 1, 1, 0, 1, 0, 0, 0, 0, 1, 1, 0, 1, 1, 1, 1, 0, 1, 1, 0, 0, 1,\n",
              "       0, 0, 1, 1, 1, 0, 1, 0, 0, 0, 1, 1, 1, 0, 0, 0, 0, 1, 0, 0, 1, 1,\n",
              "       1, 1, 0, 1, 1, 0, 1, 0, 1, 1, 0])"
            ]
          },
          "metadata": {},
          "execution_count": 43
        }
      ]
    },
    {
      "cell_type": "code",
      "metadata": {
        "colab": {
          "base_uri": "https://localhost:8080/"
        },
        "id": "XhMN6d-W7-w7",
        "outputId": "d5d868cd-6172-41c1-fabd-058241198ec1"
      },
      "source": [
        "from sklearn.metrics import confusion_matrix, classification_report\n",
        "\n",
        "print('Accuracy {}%'.format(100 * accuracy_score(y_pred, y_test)))"
      ],
      "execution_count": null,
      "outputs": [
        {
          "output_type": "stream",
          "name": "stdout",
          "text": [
            "Accuracy 100.0%\n"
          ]
        }
      ]
    },
    {
      "cell_type": "code",
      "metadata": {
        "colab": {
          "base_uri": "https://localhost:8080/",
          "height": 283
        },
        "id": "7HDCS9PX9qhr",
        "outputId": "04948bf9-2e74-44b4-b08c-f7782c4284ab"
      },
      "source": [
        "cm = confusion_matrix(y_pred, y_test)\n",
        "sns.heatmap(cm, annot = True)"
      ],
      "execution_count": null,
      "outputs": [
        {
          "output_type": "execute_result",
          "data": {
            "text/plain": [
              "<matplotlib.axes._subplots.AxesSubplot at 0x7f5bf0802350>"
            ]
          },
          "metadata": {},
          "execution_count": 45
        },
        {
          "output_type": "display_data",
          "data": {
            "image/png": "[encoded data removed]",
            "text/plain": [
              "<Figure size 432x288 with 2 Axes>"
            ]
          },
          "metadata": {
            "needs_background": "light"
          }
        }
      ]
    },
    {
      "cell_type": "code",
      "metadata": {
        "colab": {
          "base_uri": "https://localhost:8080/"
        },
        "id": "uXGY1UrK-Q3J",
        "outputId": "04e9aec9-c595-4a7e-d92f-cd6a11cbae03"
      },
      "source": [
        "print(classification_report(y_test, y_pred))"
      ],
      "execution_count": null,
      "outputs": [
        {
          "output_type": "stream",
          "name": "stdout",
          "text": [
            "              precision    recall  f1-score   support\n",
            "\n",
            "           0       1.00      1.00      1.00       133\n",
            "           1       1.00      1.00      1.00       142\n",
            "\n",
            "    accuracy                           1.00       275\n",
            "   macro avg       1.00      1.00      1.00       275\n",
            "weighted avg       1.00      1.00      1.00       275\n",
            "\n"
          ]
        }
      ]
    },
    {
      "cell_type": "code",
      "metadata": {
        "id": "JwAcxNaw-hSH"
      },
      "source": [
        "# Ramdon Forest Classifier"
      ],
      "execution_count": null,
      "outputs": []
    },
    {
      "cell_type": "code",
      "metadata": {
        "colab": {
          "base_uri": "https://localhost:8080/"
        },
        "id": "wU5_Dkt1H5o7",
        "outputId": "8ae10465-a850-4fbd-ff56-3e8364ccedde"
      },
      "source": [
        "from sklearn.ensemble import RandomForestClassifier\n",
        "\n",
        "model = RandomForestClassifier()\n",
        "model.fit(x_train, y_train)"
      ],
      "execution_count": null,
      "outputs": [
        {
          "output_type": "execute_result",
          "data": {
            "text/plain": [
              "RandomForestClassifier(bootstrap=True, ccp_alpha=0.0, class_weight=None,\n",
              "                       criterion='gini', max_depth=None, max_features='auto',\n",
              "                       max_leaf_nodes=None, max_samples=None,\n",
              "                       min_impurity_decrease=0.0, min_impurity_split=None,\n",
              "                       min_samples_leaf=1, min_samples_split=2,\n",
              "                       min_weight_fraction_leaf=0.0, n_estimators=100,\n",
              "                       n_jobs=None, oob_score=False, random_state=None,\n",
              "                       verbose=0, warm_start=False)"
            ]
          },
          "metadata": {},
          "execution_count": 49
        }
      ]
    },
    {
      "cell_type": "code",
      "metadata": {
        "id": "3oPbXOiEINuR"
      },
      "source": [
        "y_pred = model.predict(x_test)"
      ],
      "execution_count": null,
      "outputs": []
    },
    {
      "cell_type": "code",
      "metadata": {
        "colab": {
          "base_uri": "https://localhost:8080/"
        },
        "id": "ZzqG4FwaJ_79",
        "outputId": "39993bdc-c9af-46dc-83c6-9d3d616ef20f"
      },
      "source": [
        "y_pred"
      ],
      "execution_count": null,
      "outputs": [
        {
          "output_type": "execute_result",
          "data": {
            "text/plain": [
              "array([0, 1, 0, 0, 0, 0, 1, 1, 1, 0, 1, 1, 0, 1, 0, 1, 1, 1, 0, 1, 1, 0,\n",
              "       1, 0, 0, 1, 1, 1, 0, 0, 1, 1, 1, 1, 1, 0, 0, 0, 0, 1, 1, 1, 1, 0,\n",
              "       1, 0, 0, 1, 1, 0, 0, 0, 1, 0, 0, 1, 0, 1, 0, 0, 0, 1, 1, 1, 1, 1,\n",
              "       0, 0, 1, 0, 1, 1, 1, 1, 1, 1, 0, 1, 1, 0, 1, 0, 0, 0, 0, 0, 1, 0,\n",
              "       1, 1, 0, 0, 0, 1, 1, 1, 1, 0, 1, 0, 0, 1, 0, 1, 0, 1, 1, 1, 0, 0,\n",
              "       0, 1, 1, 1, 1, 0, 1, 1, 1, 1, 0, 0, 1, 1, 1, 0, 0, 1, 0, 1, 0, 0,\n",
              "       0, 0, 0, 1, 1, 1, 0, 0, 0, 0, 1, 1, 0, 0, 1, 1, 1, 0, 0, 0, 0, 1,\n",
              "       1, 0, 1, 0, 0, 1, 0, 1, 1, 0, 0, 0, 1, 1, 0, 1, 0, 1, 0, 0, 1, 1,\n",
              "       0, 0, 1, 0, 1, 0, 0, 0, 1, 1, 0, 1, 1, 1, 0, 1, 1, 1, 1, 0, 0, 0,\n",
              "       0, 0, 0, 1, 0, 1, 0, 0, 1, 0, 1, 1, 0, 1, 0, 0, 0, 1, 1, 1, 1, 0,\n",
              "       0, 1, 1, 0, 1, 0, 0, 0, 0, 1, 1, 0, 1, 1, 1, 1, 0, 1, 1, 0, 0, 1,\n",
              "       0, 0, 1, 1, 1, 0, 1, 0, 0, 0, 1, 1, 1, 0, 0, 0, 0, 1, 0, 0, 1, 1,\n",
              "       1, 1, 0, 1, 1, 0, 1, 0, 1, 1, 0])"
            ]
          },
          "metadata": {},
          "execution_count": 51
        }
      ]
    },
    {
      "cell_type": "code",
      "metadata": {
        "colab": {
          "base_uri": "https://localhost:8080/",
          "height": 300
        },
        "id": "-gU0n2VhKCaE",
        "outputId": "311640dc-0ff0-49c3-db2a-90e03178c12d"
      },
      "source": [
        "# Testing Set Performance\n",
        "from sklearn.metrics import confusion_matrix, classification_report\n",
        "\n",
        "print('Accuracy {}%'.format(100 * accuracy_score(y_pred, y_test)))\n",
        "\n",
        "cm = confusion_matrix(y_pred, y_test)\n",
        "sns.heatmap(cm, annot = True)"
      ],
      "execution_count": null,
      "outputs": [
        {
          "output_type": "stream",
          "name": "stdout",
          "text": [
            "Accuracy 100.0%\n"
          ]
        },
        {
          "output_type": "execute_result",
          "data": {
            "text/plain": [
              "<matplotlib.axes._subplots.AxesSubplot at 0x7f5bee954c90>"
            ]
          },
          "metadata": {},
          "execution_count": 53
        },
        {
          "output_type": "display_data",
          "data": {
            "image/png": "[encoded data removed]",
            "text/plain": [
              "<Figure size 432x288 with 2 Axes>"
            ]
          },
          "metadata": {
            "needs_background": "light"
          }
        }
      ]
    },
    {
      "cell_type": "code",
      "metadata": {
        "colab": {
          "base_uri": "https://localhost:8080/"
        },
        "id": "j_31rCMBKVaj",
        "outputId": "3ec41155-2f65-44a9-96b9-e9308a7f2f2a"
      },
      "source": [
        "print(classification_report(y_test, y_pred))"
      ],
      "execution_count": null,
      "outputs": [
        {
          "output_type": "stream",
          "name": "stdout",
          "text": [
            "              precision    recall  f1-score   support\n",
            "\n",
            "           0       1.00      1.00      1.00       133\n",
            "           1       1.00      1.00      1.00       142\n",
            "\n",
            "    accuracy                           1.00       275\n",
            "   macro avg       1.00      1.00      1.00       275\n",
            "weighted avg       1.00      1.00      1.00       275\n",
            "\n"
          ]
        }
      ]
    },
    {
      "cell_type": "code",
      "metadata": {
        "id": "tlgGXayxQQf9"
      },
      "source": [
        ""
      ],
      "execution_count": null,
      "outputs": []
    }
  ]
}